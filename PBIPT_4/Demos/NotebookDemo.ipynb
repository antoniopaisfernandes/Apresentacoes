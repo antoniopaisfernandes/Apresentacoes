{
    "metadata": {
        "kernelspec": {
            "name": "SQL",
            "display_name": "SQL",
            "language": "sql"
        },
        "language_info": {
            "name": "sql",
            "version": ""
        }
    },
    "nbformat_minor": 2,
    "nbformat": 4,
    "cells": [
        {
            "cell_type": "markdown",
            "source": "This script is just to clean stuff and to showcase the SQL Notebooks",
            "metadata": {}
        },
        {
            "cell_type": "code",
            "source": "USE ContosoRetailDW;",
            "metadata": {},
            "outputs": [
                {
                    "output_type": "display_data",
                    "data": {
                        "text/html": "Commands completed successfully."
                    },
                    "metadata": {}
                },
                {
                    "output_type": "display_data",
                    "data": {
                        "text/html": "Total execution time: 00:00:00.0083925"
                    },
                    "metadata": {}
                }
            ],
            "execution_count": 7
        },
        {
            "cell_type": "markdown",
            "source": "Generate the delete SQL",
            "metadata": {}
        },
        {
            "cell_type": "code",
            "source": "SELECT 'DROP TABLE ' + t.TABLE_SCHEMA + '.[' + t.TABLE_NAME + ']' 'Stuff to delete'\r\nFROM INFORMATION_SCHEMA.TABLES t\r\nWHERE t.TABLE_SCHEMA = 'Test';",
            "metadata": {},
            "outputs": [
                {
                    "output_type": "display_data",
                    "data": {
                        "text/html": "(0 rows affected)"
                    },
                    "metadata": {}
                },
                {
                    "output_type": "display_data",
                    "data": {
                        "text/html": "Total execution time: 00:00:00.0561329"
                    },
                    "metadata": {}
                },
                {
                    "output_type": "execute_result",
                    "metadata": {},
                    "execution_count": 8,
                    "data": {
                        "application/vnd.dataresource+json": {
                            "schema": {
                                "fields": [
                                    {
                                        "name": "Stuff to delete"
                                    }
                                ]
                            },
                            "data": []
                        },
                        "text/html": "<table><tr><th>Stuff to delete</th></tr></table>"
                    }
                }
            ],
            "execution_count": 8
        }
    ]
}